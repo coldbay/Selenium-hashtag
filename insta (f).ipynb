{
 "cells": [
  {
   "cell_type": "code",
   "execution_count": 1,
   "metadata": {},
   "outputs": [],
   "source": [
    "#cmd- pip install selenium(selenium 설치)\n",
    "from selenium import webdriver as wt # selenium에서 webdriver 모듈을 가져와 wt이라는 새 이름 지정\n",
    "# 페이지 스크롤링을 위한 모듈\n",
    "from selenium.webdriver.common.keys import Keys\n",
    "#시간 모듈 \n",
    "import time \n"
   ]
  },
  {
   "cell_type": "code",
   "execution_count": null,
   "metadata": {},
   "outputs": [],
   "source": []
  },
  {
   "cell_type": "code",
   "execution_count": null,
   "metadata": {},
   "outputs": [],
   "source": []
  },
  {
   "cell_type": "code",
   "execution_count": 6,
   "metadata": {},
   "outputs": [
    {
     "name": "stdout",
     "output_type": "stream",
     "text": [
      "3.6.4 |Anaconda, Inc.| (default, Jan 16 2018, 10:21:59) [MSC v.1900 32 bit (Intel)]\n"
     ]
    }
   ],
   "source": [
    "import sys\n",
    "\n",
    "#사람이 보기 편함\n",
    "print (sys.version)"
   ]
  },
  {
   "cell_type": "code",
   "execution_count": 2,
   "metadata": {
    "scrolled": false
   },
   "outputs": [
    {
     "name": "stdout",
     "output_type": "stream",
     "text": [
      "수집한 해시태그 수:1297\n",
      "#우왁굳(115)\n",
      "#daily(16)\n",
      "#셀카(15)\n",
      "#맞팔(15)\n",
      "#소통(15)\n",
      "#좋아요(15)\n",
      "#파주(15)\n",
      "#일산(15)\n",
      "#홍대(15)\n",
      "#f4ff(15)\n",
      "#오영택(14)\n",
      "#burn(13)\n",
      "#팔로우(13)\n",
      "#강서(13)\n",
      "#웰시코기(12)\n",
      "#강아지(12)\n",
      "#친스타그램(12)\n",
      "#instagood(12)\n",
      "#셀피(12)\n",
      "#셀스타그램(12)\n",
      "#결혼(11)\n",
      "#웰시코기메시(10)\n",
      "#welshcorgi(10)\n",
      "#good(10)\n",
      "#f4like(10)\n",
      "#follow4follow(10)\n",
      "#메시스타그램(9)\n",
      "#반려견(9)\n",
      "#동물(9)\n",
      "#동물사진(9)\n",
      "#개스타그램(9)\n",
      "#일상(9)\n",
      "#f4f(8)\n",
      "#데일리룩(7)\n",
      "#트위치(7)\n",
      "#김수현아나운서(6)\n",
      "#랩(6)\n",
      "#왁굳형(6)\n",
      "#instadaily(6)\n",
      "#오오티디(6)\n",
      "#소통해요(6)\n",
      "#운동(5)\n",
      "#일상소통(5)\n",
      "#일상한컷(5)\n",
      "#selstagram(5)\n",
      "#day(5)\n",
      "#팔로워(5)\n",
      "#f4follow(5)\n",
      "#JMT(5)\n",
      "#소주(5)\n",
      "#맥주(5)\n",
      "#술스타그램(5)\n",
      "#맛스타그램(5)\n",
      "#그림(5)\n",
      "#왁굳형사랑해(5)\n",
      "#팬치(5)\n",
      "#드라이브(5)\n",
      "#(4)\n",
      "#데일리(4)\n",
      "#선팔(4)\n",
      "#음악(4)\n",
      "#그림스타그램(4)\n",
      "#dailylook(4)\n",
      "#오늘(4)\n",
      "#ootd(4)\n",
      "#dailypic(4)\n",
      "#소맥(4)\n",
      "#먹스타그램(4)\n",
      "#f4fb(4)\n",
      "#art(4)\n"
     ]
    }
   ],
   "source": [
    "main_url = 'https://www.instagram.com/explore/tags/우왁굳/'    #인스타 주소(검색어 수정: //사이  ex)/apple/ :인스타에서 'apple'검색)\n",
    "\n",
    "\n",
    "\n",
    "\n",
    "# 드라이버 로드\n",
    "# 윈도우용\n",
    "driver = wt.Chrome(executable_path='chromedriver.exe')                    # wt모듈로 chromedriver.exe 이용을 driver로 지정\n",
    "\n",
    "\n",
    "\n",
    "driver.get(main_url)                                                       # main_url로 접속\n",
    "driver.implicitly_wait(10)                                                 #암시적으로 10초 대기\n",
    "elem = driver.find_element_by_tag_name(\"body\")                             # body 태그를 태그 이름으로 찾기\n",
    "\n",
    "\n",
    "alt_list=[]                                 #alt 속성(검색엔진에서 그림에 대한 정보)의 값(게시글 내용)을 딤을 alt_list라는 빈 리스트 선언\n",
    "pagedowns = 1                                                             # 스크롤 다운을 위해 임시 변수 선언\n",
    "while pagedowns < 30:                                                    # 스크롤을 100번 진행\n",
    "                                            # 브라우저를 조작할 때 실제 브라우저에 보이는 부분이어야 요소를 찾아 값을 얻을 수 있음\n",
    "                                                                          # 따라서 PAGE_DOWN(스크롤)에 따라서 결과 값이 달라짐\n",
    "        elem.send_keys(Keys.PAGE_DOWN)                                    #스크롤을 내리는 동작 실행\n",
    "        time.sleep(1)                                                     # 스크롤 타이밍과 에러를 피하기 위해 sleep 1초 쉬기\n",
    "        img = driver.find_elements_by_css_selector('div.KL4Bh > img')     # div.KL4Bh 속 img 태그를 css 선택자 문법으로 찾기 \n",
    "        driver.implicitly_wait(10)                                        #암시적으로 10초 대기\n",
    "        \n",
    "        for i in img:\n",
    "            if not i.get_attribute('alt') in alt_list:\n",
    "                alt_list.append(i.get_attribute('alt'))\n",
    "        pagedowns += 1                                             # 위에서 선언한 alt_list 리스트에 alt 속성의 값을 중복을 방지하며 할당\n",
    "\n",
    "        #해시태그 가려내기\n",
    "result_list = []                                                         #result_list 라는 리스트 생성\n",
    "for alt in alt_list:                                                     #alt_list의 값을 하니씩 꺼내 alt로 전달(alt와 'alt' 다름)\n",
    "    copy = False\n",
    "    result = ''                                                          #임시 변수 copy, result 선언\n",
    "    for l in alt:                                                        #alt의 값을 한단어씩 l로 전달\n",
    "        if copy == True and (l == ' ' or l == '#'):                      \n",
    "            copy = False\n",
    "            result_list.append(result)\n",
    "            result = ''                                             # 만약 copy 값이 True 이고,l의 값이 ''거나 '#'일때\n",
    "                                                                    # copy 값을 False로, result 값을 result_list에 할당, result 값 초기화\n",
    "            \n",
    "        if l == '#':\n",
    "            copy = True                                             # 만약 l값이 '#'이면 copy값을 True로\n",
    "            \n",
    "        if copy == True:\n",
    "            result += l\n",
    "            result= result.replace(\"\\xa0\",\"\")\n",
    "            result= result.replace(\"\\n\",\"\")               # 만약 copy 값이 True면 result에 l 값을 넣기\n",
    "                                                          # \\xa0(공백), \\n(줄바꿈) 유니코드를 \"\"로 대체(같은 해시태그를 다르게 판단 방지)\n",
    "            \n",
    "\n",
    "w_count={}                                                      # 딕셔너리 w_count 선언\n",
    "for lst in result_list:                                         # result_list 값을 하나씩 lst에 넣기                                           \n",
    "    try: w_count[lst] += 1\n",
    "    except: w_count[lst]=1                          #기존의 lst의 값(Key)은 나올 때마다 value에 1을 더하고 새로운 lst 값은 value를 1로 한다. \n",
    "n=len(result_list)                                             #result_list값들의 개수 세는 함수를 n으로 선언\n",
    "print('수집한 해시태그 수:'+str(n))                            # 문자열과 n값 출력\n",
    "# 딕셔너리를 횟수를 가지고 내림차순으로 정렬\n",
    "keys = sorted(w_count.items(), key = lambda x:x[1], reverse = True)\n",
    "for k, v in keys[:70]:                                         # 1~70위 까지의 키(해시태그):값을 출력\n",
    "                                                               #유사 해시태그와 의미없는 해시태그(광고성,당연시되는 내용)를 가리기 위해서\n",
    "    print(\"{}({})\".format(k, v))                               #{}부분에 각각 k, v를 넣음\n",
    "driver.close()                                                 #드라이버 종료"
   ]
  },
  {
   "cell_type": "code",
   "execution_count": null,
   "metadata": {},
   "outputs": [],
   "source": [
    "#디비 입력"
   ]
  },
  {
   "cell_type": "code",
   "execution_count": null,
   "metadata": {},
   "outputs": [],
   "source": []
  },
  {
   "cell_type": "code",
   "execution_count": null,
   "metadata": {},
   "outputs": [],
   "source": [
    "sentence='아버지가 가방에 들어가신다'\n"
   ]
  }
 ],
 "metadata": {
  "kernelspec": {
   "display_name": "Python 3",
   "language": "python",
   "name": "python3"
  },
  "language_info": {
   "codemirror_mode": {
    "name": "ipython",
    "version": 3
   },
   "file_extension": ".py",
   "mimetype": "text/x-python",
   "name": "python",
   "nbconvert_exporter": "python",
   "pygments_lexer": "ipython3",
   "version": "3.7.3"
  }
 },
 "nbformat": 4,
 "nbformat_minor": 2
}
